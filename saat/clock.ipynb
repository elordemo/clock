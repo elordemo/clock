{
 "cells": [
  {
   "cell_type": "code",
   "execution_count": null,
   "id": "1457abc6",
   "metadata": {},
   "outputs": [],
   "source": [
    "#Saat değişkeninin sisteme girişi.\n",
    "\n",
    "def zaman():\n",
    "    saat = input(\"saat bilgisi\")\n",
    "    if saat.isdigit():\n",
    "        saat = int(saat)\n",
    "        if ((saat>=0) and (saat<24)):\n",
    "            dakika = input(\"dakika bilgisi\")\n",
    "            if dakika.isdigit():\n",
    "                dakika = int(dakika)\n",
    "                if ((dakika>=0) and (dakika<60)):\n",
    "                    return \"saat {}:{} olarak belirtilmiştir\".format(saat, dakika)\n",
    "                else:\n",
    "                    return \"dakika yanlış değer aralığında belirtilmiştir\"\n",
    "            else:\n",
    "                return \"dakika değişkeninin veri tipi yanlış girilmiştir\"\n",
    "        else:\n",
    "            return \"saat yanlış değer aralığında belirtilmiştir\"\n",
    "    else:\n",
    "        return \"saat değişkeninin veri tipi yanlış girilmiştir\"\n",
    "\n",
    "zaman()"
   ]
  }
 ],
 "metadata": {
  "kernelspec": {
   "display_name": "Python 3 (ipykernel)",
   "language": "python",
   "name": "python3"
  },
  "language_info": {
   "codemirror_mode": {
    "name": "ipython",
    "version": 3
   },
   "file_extension": ".py",
   "mimetype": "text/x-python",
   "name": "python",
   "nbconvert_exporter": "python",
   "pygments_lexer": "ipython3",
   "version": "3.9.12"
  }
 },
 "nbformat": 4,
 "nbformat_minor": 5
}
